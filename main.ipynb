{
 "cells": [
  {
   "cell_type": "markdown",
   "id": "a128ea30-344a-4f15-b406-604056e7e501",
   "metadata": {},
   "source": [
    "# Scraping Six Nations Rugby Statistics\n",
    "Below script will scrape statistics for the Six Nations teams and save to dataframes for each category of statistics."
   ]
  },
  {
   "cell_type": "code",
   "execution_count": 1,
   "id": "5b77c5aa-cbdb-478c-bdfd-39341dbc4f47",
   "metadata": {},
   "outputs": [],
   "source": [
    "# import rugby_stats_functions as rs_func - my functions for scraping stats\n",
    "# import pandas etc"
   ]
  },
  {
   "cell_type": "markdown",
   "id": "a5debc7f-efae-48d8-ad4c-48b5df10ad9b",
   "metadata": {},
   "source": [
    "#### "
   ]
  },
  {
   "cell_type": "code",
   "execution_count": 9,
   "id": "176970c7-bdb3-4daf-99b9-5afc892dffd3",
   "metadata": {},
   "outputs": [
    {
     "data": {
      "text/plain": [
       "\"\\nCode will take each country and a year(s) for scraping statistics, then copy each individual match's stats to one row of each dataframe.\\nIt will then move onto the next match and so on\\n\""
      ]
     },
     "execution_count": 9,
     "metadata": {},
     "output_type": "execute_result"
    }
   ],
   "source": [
    "'''\n",
    "Code will take each country and a year(s) for scraping statistics, then copy each individual match's stats to one row of each dataframe.\n",
    "It will then move onto the next match and so on\n",
    "\n",
    "E.g. \"England\"\n",
    "\n",
    "for each match \"England\" played in 2024:\n",
    "    main_df_row, kick_pass_run_df_row etc = rs_func.find_match_stats(\"England\", 2024)\n",
    "    add each row to the main df for each category\n",
    "'''"
   ]
  },
  {
   "cell_type": "code",
   "execution_count": null,
   "id": "53e8a3f7-b992-4da8-9d6f-d912dbc49e2b",
   "metadata": {},
   "outputs": [],
   "source": []
  }
 ],
 "metadata": {
  "kernelspec": {
   "display_name": "Python 3 (ipykernel)",
   "language": "python",
   "name": "python3"
  },
  "language_info": {
   "codemirror_mode": {
    "name": "ipython",
    "version": 3
   },
   "file_extension": ".py",
   "mimetype": "text/x-python",
   "name": "python",
   "nbconvert_exporter": "python",
   "pygments_lexer": "ipython3",
   "version": "3.11.7"
  }
 },
 "nbformat": 4,
 "nbformat_minor": 5
}
