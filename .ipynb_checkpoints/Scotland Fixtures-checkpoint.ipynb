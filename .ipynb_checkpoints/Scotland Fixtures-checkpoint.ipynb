{
 "cells": [
  {
   "cell_type": "code",
   "execution_count": 1,
   "id": "ecdd8fb4-325c-4c3b-851a-c48b0d5fc8b6",
   "metadata": {},
   "outputs": [],
   "source": [
    "import pandas as pd\n",
    "import numpy as np\n",
    "\n",
    "# import selenium library and necessary features for web scraping\n",
    "import selenium\n",
    "from selenium import webdriver\n",
    "from selenium.webdriver.common.by import By\n",
    "from selenium.common.exceptions import NoSuchElementException\n",
    "import time"
   ]
  },
  {
   "cell_type": "code",
   "execution_count": 2,
   "id": "3eb1beb4-ec9e-421a-9ca4-ab195ac4f83d",
   "metadata": {},
   "outputs": [],
   "source": [
    "# settings for selenium\n",
    "cService = webdriver.ChromeService(executable_path=r\"C:\\Users\\jamie\\Python Projects\\Rugby\\chromedriver-win64\\chromedriver-win64\\chromedriver.exe\")\n",
    "driver = webdriver.Chrome(service=cService)\n",
    "\n",
    "# open the ESPN page for Scotland (2024 season)\n",
    "driver.get(\"https://www.espn.co.uk/rugby/results/_/team/2/season/2024\")\n",
    "\n",
    "# close privacy settings window\n",
    "time.sleep(5)\n",
    "cookies_button = driver.find_element(By.ID, \"onetrust-close-btn-container\")\n",
    "cookies_button.click()\n",
    "time.sleep(3)"
   ]
  },
  {
   "cell_type": "code",
   "execution_count": 3,
   "id": "36845758-4251-4d7e-b3aa-5f37a1761fc7",
   "metadata": {},
   "outputs": [
    {
     "data": {
      "text/plain": [
       "[<selenium.webdriver.remote.webelement.WebElement (session=\"5d2be0256facddc443e7343a201d3297\", element=\"f.E8AC06AAC7729DAED501A0EF45AC639F.d.EF8A457AF05CF861388849C0CE2ABD43.e.130\")>,\n",
       " <selenium.webdriver.remote.webelement.WebElement (session=\"5d2be0256facddc443e7343a201d3297\", element=\"f.E8AC06AAC7729DAED501A0EF45AC639F.d.EF8A457AF05CF861388849C0CE2ABD43.e.131\")>,\n",
       " <selenium.webdriver.remote.webelement.WebElement (session=\"5d2be0256facddc443e7343a201d3297\", element=\"f.E8AC06AAC7729DAED501A0EF45AC639F.d.EF8A457AF05CF861388849C0CE2ABD43.e.132\")>,\n",
       " <selenium.webdriver.remote.webelement.WebElement (session=\"5d2be0256facddc443e7343a201d3297\", element=\"f.E8AC06AAC7729DAED501A0EF45AC639F.d.EF8A457AF05CF861388849C0CE2ABD43.e.133\")>,\n",
       " <selenium.webdriver.remote.webelement.WebElement (session=\"5d2be0256facddc443e7343a201d3297\", element=\"f.E8AC06AAC7729DAED501A0EF45AC639F.d.EF8A457AF05CF861388849C0CE2ABD43.e.134\")>,\n",
       " <selenium.webdriver.remote.webelement.WebElement (session=\"5d2be0256facddc443e7343a201d3297\", element=\"f.E8AC06AAC7729DAED501A0EF45AC639F.d.EF8A457AF05CF861388849C0CE2ABD43.e.135\")>,\n",
       " <selenium.webdriver.remote.webelement.WebElement (session=\"5d2be0256facddc443e7343a201d3297\", element=\"f.E8AC06AAC7729DAED501A0EF45AC639F.d.EF8A457AF05CF861388849C0CE2ABD43.e.136\")>,\n",
       " <selenium.webdriver.remote.webelement.WebElement (session=\"5d2be0256facddc443e7343a201d3297\", element=\"f.E8AC06AAC7729DAED501A0EF45AC639F.d.EF8A457AF05CF861388849C0CE2ABD43.e.137\")>,\n",
       " <selenium.webdriver.remote.webelement.WebElement (session=\"5d2be0256facddc443e7343a201d3297\", element=\"f.E8AC06AAC7729DAED501A0EF45AC639F.d.EF8A457AF05CF861388849C0CE2ABD43.e.46\")>,\n",
       " <selenium.webdriver.remote.webelement.WebElement (session=\"5d2be0256facddc443e7343a201d3297\", element=\"f.E8AC06AAC7729DAED501A0EF45AC639F.d.EF8A457AF05CF861388849C0CE2ABD43.e.51\")>,\n",
       " <selenium.webdriver.remote.webelement.WebElement (session=\"5d2be0256facddc443e7343a201d3297\", element=\"f.E8AC06AAC7729DAED501A0EF45AC639F.d.EF8A457AF05CF861388849C0CE2ABD43.e.138\")>,\n",
       " <selenium.webdriver.remote.webelement.WebElement (session=\"5d2be0256facddc443e7343a201d3297\", element=\"f.E8AC06AAC7729DAED501A0EF45AC639F.d.EF8A457AF05CF861388849C0CE2ABD43.e.139\")>,\n",
       " <selenium.webdriver.remote.webelement.WebElement (session=\"5d2be0256facddc443e7343a201d3297\", element=\"f.E8AC06AAC7729DAED501A0EF45AC639F.d.EF8A457AF05CF861388849C0CE2ABD43.e.140\")>]"
      ]
     },
     "execution_count": 3,
     "metadata": {},
     "output_type": "execute_result"
    }
   ],
   "source": [
    "# find all fixtures in selected season\n",
    "fixtures_elements = driver.find_elements(By.CLASS_NAME, \"record\")\n",
    "fixtures_elements"
   ]
  },
  {
   "cell_type": "code",
   "execution_count": 7,
   "id": "b6bca4b8-7366-48f0-97a1-8bee8f316da9",
   "metadata": {},
   "outputs": [
    {
     "data": {
      "text/plain": [
       "13"
      ]
     },
     "execution_count": 7,
     "metadata": {},
     "output_type": "execute_result"
    }
   ],
   "source": []
  },
  {
   "cell_type": "code",
   "execution_count": null,
   "id": "ea45d917-fb5d-440c-bfcc-755b711f781e",
   "metadata": {},
   "outputs": [],
   "source": []
  }
 ],
 "metadata": {
  "kernelspec": {
   "display_name": "Python 3 (ipykernel)",
   "language": "python",
   "name": "python3"
  },
  "language_info": {
   "codemirror_mode": {
    "name": "ipython",
    "version": 3
   },
   "file_extension": ".py",
   "mimetype": "text/x-python",
   "name": "python",
   "nbconvert_exporter": "python",
   "pygments_lexer": "ipython3",
   "version": "3.11.7"
  }
 },
 "nbformat": 4,
 "nbformat_minor": 5
}
