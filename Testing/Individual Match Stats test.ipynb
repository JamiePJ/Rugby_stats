{
 "cells": [
  {
   "cell_type": "markdown",
   "id": "d631dd54",
   "metadata": {},
   "source": [
    "Six Nations stats = https://www.espn.co.uk/rugby/scoreboard/_/league/180659?date=20220205"
   ]
  },
  {
   "cell_type": "code",
   "execution_count": 2,
   "id": "29da9145",
   "metadata": {},
   "outputs": [],
   "source": [
    "import pandas as pd\n",
    "import numpy as np"
   ]
  },
  {
   "cell_type": "code",
   "execution_count": 3,
   "id": "38320bb4",
   "metadata": {},
   "outputs": [],
   "source": [
    "# import selenium library and necessary features for web scraping\n",
    "import selenium\n",
    "from selenium import webdriver\n",
    "from selenium.webdriver.common.by import By\n",
    "from selenium.common.exceptions import NoSuchElementException\n",
    "import time"
   ]
  },
  {
   "cell_type": "code",
   "execution_count": 4,
   "id": "0deac33b",
   "metadata": {},
   "outputs": [],
   "source": [
    "# settings for selenium\n",
    "cService = webdriver.ChromeService(executable_path=r\"C:\\Users\\jamie\\Python Projects\\Rugby\\chromedriver-win64\\chromedriver-win64\\chromedriver.exe\")\n",
    "driver = webdriver.Chrome(service=cService)\n",
    "\n",
    "# open the six nations page for 6N23 04/02/23\n",
    "driver.get(\"https://www.espn.co.uk/rugby/scoreboard/_/league/180659?date=20230204\")\n",
    "\n",
    "# close privacy settings window\n",
    "time.sleep(5)\n",
    "cookies_button = driver.find_element(By.ID, \"onetrust-close-btn-container\")\n",
    "cookies_button.click()\n",
    "time.sleep(3)"
   ]
  },
  {
   "cell_type": "code",
   "execution_count": 5,
   "id": "06101838",
   "metadata": {},
   "outputs": [],
   "source": [
    "# navigate to first fixture page\n",
    "fixtures_elements = driver.find_elements(By.CLASS_NAME, \"competitors\")"
   ]
  },
  {
   "cell_type": "code",
   "execution_count": 6,
   "id": "82cfb108",
   "metadata": {},
   "outputs": [],
   "source": [
    "# open first fixture page\n",
    "fixtures_elements[0].click()"
   ]
  },
  {
   "cell_type": "code",
   "execution_count": 7,
   "id": "8541e18c",
   "metadata": {},
   "outputs": [],
   "source": [
    "# get url for current fixture\n",
    "time.sleep(3)\n",
    "get_url = driver.current_url\n",
    "current_fixture_id = get_url.split(\"_\")[1][1:].split(\"/\")\n",
    "match_stats_url = \"https://www.espn.co.uk/rugby/matchstats?\" + \"gameId=\" + current_fixture_id[1] + \"&league=\" + current_fixture_id[-1]\n",
    "player_stats_url = \"https://www.espn.co.uk/rugby/playerstats?\" + \"gameId=\" + current_fixture_id[1] + \"&league=\" + current_fixture_id[-1]"
   ]
  },
  {
   "cell_type": "markdown",
   "id": "d34a16b5",
   "metadata": {},
   "source": [
    "## Match Stats Page\n",
    "### Generic Stats\n",
    "- Match date\n",
    "- Team 1 and Team 2\n",
    "- FT score\n",
    "- Try scorers (Name & time scored)\n",
    "- Conversion scorers (Name & time scored)\n",
    "- Penalty scorers (Name & time scored)\n",
    "- Drop goal scorers (Name & time scored)"
   ]
  },
  {
   "cell_type": "code",
   "execution_count": 9,
   "id": "dca78791-c8c4-4138-92cf-659d0fe759dc",
   "metadata": {},
   "outputs": [
    {
     "data": {
      "text/plain": [
       "Timestamp('2023-02-04 14:15:00')"
      ]
     },
     "execution_count": 9,
     "metadata": {},
     "output_type": "execute_result"
    }
   ],
   "source": [
    "# find date of match\n",
    "date_string = driver.find_elements(By.CLASS_NAME, \"game-date-time\")\n",
    "date_string = date_string[1].text\n",
    "\n",
    "# convert to datetime object\n",
    "match_datetime = pd.to_datetime(date_string, format=\"%I:%M %p, %B %d, %Y\")\n",
    "match_datetime"
   ]
  },
  {
   "cell_type": "code",
   "execution_count": 10,
   "id": "d82f4bc6-210f-40b3-8243-a649e3652743",
   "metadata": {},
   "outputs": [
    {
     "data": {
      "text/plain": [
       "'date_string_list = date_string.split()\\nmatch_year, match_month, match_day = int(date_string_list[4]), date_string_list[2], int(date_string_list[3].strip(\",\"))\\nmatch_year, match_month, match_day'"
      ]
     },
     "execution_count": 10,
     "metadata": {},
     "output_type": "execute_result"
    }
   ],
   "source": [
    "'''date_string_list = date_string.split()\n",
    "match_year, match_month, match_day = int(date_string_list[4]), date_string_list[2], int(date_string_list[3].strip(\",\"))\n",
    "match_year, match_month, match_day'''"
   ]
  },
  {
   "cell_type": "code",
   "execution_count": 11,
   "id": "538af0ef-6cca-4edb-a225-5cd37b310e5d",
   "metadata": {},
   "outputs": [],
   "source": [
    "# normal driver\n",
    "driver.get(match_stats_url)\n",
    "\n",
    "# england v argentina world cup game (no tries or convs)\n",
    "# driver.get(\"https://www.espn.co.uk/rugby/matchstats?gameId=596158&league=164205\")"
   ]
  },
  {
   "cell_type": "code",
   "execution_count": 12,
   "id": "55b7bb6f",
   "metadata": {},
   "outputs": [
    {
     "data": {
      "text/plain": [
       "['WALES', 'IRE']"
      ]
     },
     "execution_count": 12,
     "metadata": {},
     "output_type": "execute_result"
    }
   ],
   "source": [
    "team_names = driver.find_elements(By.CLASS_NAME, \"long-name\")\n",
    "team_names_list = [team_names[2].text, team_names[3].text]\n",
    "team_names_list"
   ]
  },
  {
   "cell_type": "code",
   "execution_count": 13,
   "id": "27a679b4",
   "metadata": {},
   "outputs": [
    {
     "data": {
      "text/plain": [
       "['10', '34']"
      ]
     },
     "execution_count": 13,
     "metadata": {},
     "output_type": "execute_result"
    }
   ],
   "source": [
    "scores = driver.find_elements(By.CLASS_NAME, \"score-container\")\n",
    "scores_list = [scores[0].text, scores[1].text]\n",
    "scores_list"
   ]
  },
  {
   "cell_type": "code",
   "execution_count": 14,
   "id": "fae3e1de",
   "metadata": {},
   "outputs": [],
   "source": [
    "# ESPN's html has home and away team backwards\n",
    "competitors_class = driver.find_elements(By.CLASS_NAME, \"competitors\")\n",
    "\n",
    "competitors_class_list = []\n",
    "for i in competitors_class:\n",
    "    competitors_class_list.append(i.text)"
   ]
  },
  {
   "cell_type": "code",
   "execution_count": 15,
   "id": "f0341a0d",
   "metadata": {},
   "outputs": [],
   "source": [
    "# locate header score section\n",
    "div_tag = competitors_class[1].find_elements(By.TAG_NAME, \"div\")\n",
    "home_team_div_tag = div_tag[0]\n",
    "away_team_div_tag = div_tag[2]"
   ]
  },
  {
   "cell_type": "code",
   "execution_count": 16,
   "id": "a85d2a33",
   "metadata": {},
   "outputs": [
    {
     "name": "stdout",
     "output_type": "stream",
     "text": [
      "Liam Williams(46')\n",
      "Dan Biggar(46')\n",
      "Dan Biggar(14')\n"
     ]
    }
   ],
   "source": [
    "# find home team scorers, print \"no scorers\" for exceptions\n",
    "try:\n",
    "    home_team_tryscorers = home_team_div_tag.find_element(By.CLASS_NAME, \"icon-rugby-solid-before\")\n",
    "    print(home_team_tryscorers.text)\n",
    "except NoSuchElementException:\n",
    "    home_team_tryscorers = 0\n",
    "    \n",
    "try:\n",
    "    home_team_conv_scorers = home_team_div_tag.find_element(By.CLASS_NAME, \"icon-rugby-conversion-solid-before\")\n",
    "    print(home_team_conv_scorers.text)\n",
    "except NoSuchElementException:\n",
    "    home_team_conv_scorers = 0\n",
    "    \n",
    "try:\n",
    "    home_team_pen_scorers = home_team_div_tag.find_element(By.CLASS_NAME, \"icon-rugby-penalty-solid-before\")\n",
    "    print(home_team_pen_scorers.text)\n",
    "except NoSuchElementException:\n",
    "    home_team_pen_scorers = 0\n",
    "\n",
    "try:\n",
    "    home_team_drop_scorers = home_team_div_tag.find_element(By.CLASS_NAME, \"icon-rugby-drop-goal-solid-before\")\n",
    "    print(home_team_drop_scorers.text)\n",
    "except NoSuchElementException:\n",
    "    home_team_drop_scorers = 0"
   ]
  },
  {
   "cell_type": "code",
   "execution_count": 17,
   "id": "6932fe3b",
   "metadata": {},
   "outputs": [
    {
     "name": "stdout",
     "output_type": "stream",
     "text": [
      "Caelan Doris(2')James Ryan(9')James Lowe(21')Josh van der Flier(73')\n",
      "Johnny Sexton(3', 10', 22')Ross Byrne(73')\n",
      "Johnny Sexton(19', 28')\n"
     ]
    }
   ],
   "source": [
    "# find away team scorers, print \"no scorers\" for exceptions\n",
    "try:\n",
    "    away_team_tryscorers = away_team_div_tag.find_element(By.CLASS_NAME, \"icon-rugby-solid-before\")\n",
    "    print(away_team_tryscorers.text)\n",
    "except NoSuchElementException:\n",
    "    away_team_tryscorers = 0\n",
    "\n",
    "try:\n",
    "    away_team_conv_scorers = away_team_div_tag.find_element(By.CLASS_NAME, \"icon-rugby-conversion-solid-before\")\n",
    "    print(away_team_conv_scorers.text)\n",
    "except NoSuchElementException:\n",
    "    away_team_conv_scorers = 0\n",
    "    \n",
    "try:\n",
    "    away_team_pen_scorers = away_team_div_tag.find_element(By.CLASS_NAME, \"icon-rugby-penalty-solid-before\")\n",
    "    print(away_team_pen_scorers.text)\n",
    "except NoSuchElementException:\n",
    "    away_team_pen_scorers = 0\n",
    "    \n",
    "try:\n",
    "    away_team_drop_scorers = away_team_div_tag.find_element(By.CLASS_NAME, \"icon-rugby-drop-goal-solid-before\")\n",
    "    print(away_team_drop_scorers.text)\n",
    "except NoSuchElementException:\n",
    "    away_team_drop_scorers = 0"
   ]
  },
  {
   "cell_type": "code",
   "execution_count": 18,
   "id": "ffc77e93",
   "metadata": {},
   "outputs": [
    {
     "name": "stdout",
     "output_type": "stream",
     "text": [
      "{'Liam Williams': [46]}\n"
     ]
    }
   ],
   "source": [
    "# create dict of home tryscorers\n",
    "# check if any tryscorers then proceed\n",
    "if home_team_tryscorers != 0:\n",
    "    home_tryscorers_split = home_team_tryscorers.text.split(\")\")\n",
    "\n",
    "\n",
    "    home_tryscorers_clean = {}\n",
    "    for i in range(len(home_tryscorers_split)-1):\n",
    "        scorer = home_tryscorers_split[i].strip(\"'\").split(\"(\")\n",
    "        home_tryscorers_clean[scorer[0]] = [int(scorer[1])]\n",
    "else:\n",
    "    home_tryscorers_clean = {}\n",
    "print(home_tryscorers_clean)"
   ]
  },
  {
   "cell_type": "code",
   "execution_count": 19,
   "id": "fba1c0e5",
   "metadata": {},
   "outputs": [
    {
     "name": "stdout",
     "output_type": "stream",
     "text": [
      "{'Caelan Doris': [2], 'James Ryan': [9], 'James Lowe': [21], 'Josh van der Flier': [73]}\n"
     ]
    }
   ],
   "source": [
    "# create dict of away tryscorers\n",
    "# check if any tryscorers then proceed\n",
    "if away_team_tryscorers != 0:\n",
    "    away_tryscorers_split = away_team_tryscorers.text.split(\")\")\n",
    "\n",
    "    away_tryscorers_clean = {}\n",
    "    for i in range(len(away_tryscorers_split)-1):\n",
    "        scorer = away_tryscorers_split[i].strip(\"'\").split(\"(\")\n",
    "        away_tryscorers_clean[scorer[0]] = [int(scorer[1])]\n",
    "else:\n",
    "    away_tryscorers_clean = {}\n",
    "print(away_tryscorers_clean)"
   ]
  },
  {
   "cell_type": "code",
   "execution_count": 20,
   "id": "8aaba12c",
   "metadata": {},
   "outputs": [
    {
     "data": {
      "text/plain": [
       "{'Dan Biggar': [46]}"
      ]
     },
     "execution_count": 20,
     "metadata": {},
     "output_type": "execute_result"
    }
   ],
   "source": [
    "# create dict of home conversion scorers\n",
    "# check if any tryscorers then proceed\n",
    "if home_team_conv_scorers != 0:    \n",
    "    home_conv_scorers_split = home_team_conv_scorers.text.split(\")\")\n",
    "\n",
    "    home_conv_scorers_clean = []\n",
    "\n",
    "    for i in home_conv_scorers_split:\n",
    "        home_conv_scorers_clean.append(i.split(\"(\"))\n",
    "\n",
    "    home_conv_scorers_cleaner = []\n",
    "\n",
    "    for i in range(len(home_conv_scorers_clean)-1):\n",
    "        conv_times = home_conv_scorers_clean[i][1].replace(\"'\", \"\").split(\",\")\n",
    "        home_conv_scorers_cleaner.append(conv_times)\n",
    "    home_conv_scorers_cleaner\n",
    "\n",
    "    home_conv_scorers_times = []\n",
    "\n",
    "    for i in home_conv_scorers_cleaner:\n",
    "        player_times = []\n",
    "        for j in i:\n",
    "            player_times.append(int(j))\n",
    "        home_conv_scorers_times.append(player_times)\n",
    "\n",
    "    # create away conv scorers dict\n",
    "    home_conv_scorers = {}\n",
    "    for i in range(len(home_conv_scorers_clean)-1):\n",
    "        home_conv_scorers[home_conv_scorers_clean[i][0]] = home_conv_scorers_times[i]\n",
    "else:\n",
    "    home_conv_scorers = {}\n",
    "home_conv_scorers"
   ]
  },
  {
   "cell_type": "code",
   "execution_count": 21,
   "id": "aaac9d7b",
   "metadata": {},
   "outputs": [
    {
     "data": {
      "text/plain": [
       "{'Johnny Sexton': [3, 10, 22], 'Ross Byrne': [73]}"
      ]
     },
     "execution_count": 21,
     "metadata": {},
     "output_type": "execute_result"
    }
   ],
   "source": [
    "# create dict of away conversion scorers\n",
    "# check if any tryscorers then proceed\n",
    "if away_team_conv_scorers != 0: \n",
    "    away_conv_scorers_split = away_team_conv_scorers.text.split(\")\")\n",
    "\n",
    "    away_conv_scorers_clean = []\n",
    "\n",
    "    for i in away_conv_scorers_split:\n",
    "        away_conv_scorers_clean.append(i.split(\"(\"))\n",
    "\n",
    "    away_conv_scorers_cleaner = []\n",
    "\n",
    "    for i in range(len(away_conv_scorers_clean)-1):\n",
    "        conv_times = away_conv_scorers_clean[i][1].replace(\"'\", \"\").split(\",\")\n",
    "        away_conv_scorers_cleaner.append(conv_times)\n",
    "    away_conv_scorers_cleaner\n",
    "\n",
    "    away_conv_scorers_times = []\n",
    "\n",
    "    for i in away_conv_scorers_cleaner:\n",
    "        player_times = []\n",
    "        for j in i:\n",
    "            player_times.append(int(j))\n",
    "        away_conv_scorers_times.append(player_times)\n",
    "\n",
    "    # create away conv scorers dict\n",
    "    away_conv_scorers = {}\n",
    "    for i in range(len(away_conv_scorers_clean)-1):\n",
    "        away_conv_scorers[away_conv_scorers_clean[i][0]] = away_conv_scorers_times[i]\n",
    "else:\n",
    "    away_conv_scorers = {}\n",
    "away_conv_scorers"
   ]
  },
  {
   "cell_type": "code",
   "execution_count": 22,
   "id": "d9c40080",
   "metadata": {},
   "outputs": [
    {
     "data": {
      "text/plain": [
       "{'Dan Biggar': [14]}"
      ]
     },
     "execution_count": 22,
     "metadata": {},
     "output_type": "execute_result"
    }
   ],
   "source": [
    "# create dict of home penalty scorers\n",
    "# check if any tryscorers then proceed\n",
    "if home_team_pen_scorers != 0: \n",
    "    home_pen_scorers_split = home_team_pen_scorers.text.split(\")\")\n",
    "\n",
    "    home_pen_scorers_clean = []\n",
    "\n",
    "    for i in home_pen_scorers_split:\n",
    "        home_pen_scorers_clean.append(i.split(\"(\"))\n",
    "\n",
    "    home_pen_scorers_cleaner = []\n",
    "\n",
    "    for i in range(len(home_pen_scorers_clean)-1):\n",
    "        conv_times = home_pen_scorers_clean[i][1].replace(\"'\", \"\").split(\",\")\n",
    "        home_pen_scorers_cleaner.append(conv_times)\n",
    "    home_pen_scorers_cleaner\n",
    "\n",
    "    home_pen_scorers_times = []\n",
    "\n",
    "    for i in home_pen_scorers_cleaner:\n",
    "        player_times = []\n",
    "        for j in i:\n",
    "            player_times.append(int(j))\n",
    "        home_pen_scorers_times.append(player_times)\n",
    "\n",
    "    # create away conv scorers dict\n",
    "    home_pen_scorers = {}\n",
    "    for i in range(len(home_pen_scorers_clean)-1):\n",
    "        home_pen_scorers[home_pen_scorers_clean[i][0]] = home_pen_scorers_times[i]\n",
    "else:\n",
    "    home_pen_scorers = {}\n",
    "home_pen_scorers"
   ]
  },
  {
   "cell_type": "code",
   "execution_count": 23,
   "id": "b9c9b2b2",
   "metadata": {},
   "outputs": [
    {
     "data": {
      "text/plain": [
       "{'Johnny Sexton': [19, 28]}"
      ]
     },
     "execution_count": 23,
     "metadata": {},
     "output_type": "execute_result"
    }
   ],
   "source": [
    "# create dict of away penalty scorers\n",
    "# check if any tryscorers then proceed\n",
    "if away_team_pen_scorers != 0: \n",
    "    away_pen_scorers_split = away_team_pen_scorers.text.split(\")\")\n",
    "\n",
    "    away_pen_scorers_clean = []\n",
    "\n",
    "    for i in away_pen_scorers_split:\n",
    "        away_pen_scorers_clean.append(i.split(\"(\"))\n",
    "\n",
    "    away_pen_scorers_cleaner = []\n",
    "\n",
    "    for i in range(len(away_pen_scorers_clean)-1):\n",
    "        conv_times = away_pen_scorers_clean[i][1].replace(\"'\", \"\").split(\",\")\n",
    "        away_pen_scorers_cleaner.append(conv_times)\n",
    "    away_pen_scorers_cleaner\n",
    "\n",
    "    away_pen_scorers_times = []\n",
    "\n",
    "    for i in away_pen_scorers_cleaner:\n",
    "        player_times = []\n",
    "        for j in i:\n",
    "            player_times.append(int(j))\n",
    "        away_pen_scorers_times.append(player_times)\n",
    "\n",
    "    # create away conv scorers dict\n",
    "    away_pen_scorers = {}\n",
    "    for i in range(len(away_pen_scorers_clean)-1):\n",
    "        away_pen_scorers[away_pen_scorers_clean[i][0]] = away_pen_scorers_times[i]\n",
    "else:\n",
    "    away_pen_scorers = {}\n",
    "    \n",
    "away_pen_scorers"
   ]
  },
  {
   "cell_type": "code",
   "execution_count": 24,
   "id": "42346463",
   "metadata": {},
   "outputs": [
    {
     "data": {
      "text/plain": [
       "{}"
      ]
     },
     "execution_count": 24,
     "metadata": {},
     "output_type": "execute_result"
    }
   ],
   "source": [
    "# create dict of home drop goal scorers\n",
    "# check if any tryscorers then proceed\n",
    "if home_team_drop_scorers != 0: \n",
    "    home_drop_scorers_split = home_team_drop_scorers.text.split(\")\")\n",
    "\n",
    "    home_drop_scorers_clean = []\n",
    "\n",
    "    for i in home_drop_scorers_split:\n",
    "        home_drop_scorers_clean.append(i.split(\"(\"))\n",
    "\n",
    "    home_drop_scorers_cleaner = []\n",
    "\n",
    "    for i in range(len(home_drop_scorers_clean)-1):\n",
    "        conv_times = home_drop_scorers_clean[i][1].replace(\"'\", \"\").split(\",\")\n",
    "        home_drop_scorers_cleaner.append(conv_times)\n",
    "    home_drop_scorers_cleaner\n",
    "\n",
    "    home_drop_scorers_times = []\n",
    "\n",
    "    for i in home_drop_scorers_cleaner:\n",
    "        player_times = []\n",
    "        for j in i:\n",
    "            player_times.append(int(j))\n",
    "        home_drop_scorers_times.append(player_times)\n",
    "\n",
    "    # create away conv scorers dict\n",
    "    home_drop_scorers = {}\n",
    "    for i in range(len(home_drop_scorers_clean)-1):\n",
    "        home_drop_scorers[home_drop_scorers_clean[i][0]] = home_drop_scorers_times[i]\n",
    "else:\n",
    "    home_drop_scorers = {}\n",
    "home_drop_scorers"
   ]
  },
  {
   "cell_type": "code",
   "execution_count": 25,
   "id": "da7aad9d",
   "metadata": {},
   "outputs": [
    {
     "data": {
      "text/plain": [
       "{}"
      ]
     },
     "execution_count": 25,
     "metadata": {},
     "output_type": "execute_result"
    }
   ],
   "source": [
    "# create dict of away drop goal scorers\n",
    "# check if any tryscorers then proceed\n",
    "if away_team_drop_scorers != 0: \n",
    "    away_drop_scorers_split = away_team_drop_scorers.text.split(\")\")\n",
    "\n",
    "    away_drop_scorers_clean = []\n",
    "\n",
    "    for i in away_drop_scorers_split:\n",
    "        away_drop_scorers_clean.append(i.split(\"(\"))\n",
    "\n",
    "    away_drop_scorers_cleaner = []\n",
    "\n",
    "    for i in range(len(away_drop_scorers_clean)-1):\n",
    "        conv_times = away_drop_scorers_clean[i][1].replace(\"'\", \"\").split(\",\")\n",
    "        away_drop_scorers_cleaner.append(conv_times)\n",
    "    away_drop_scorers_cleaner\n",
    "\n",
    "    away_drop_scorers_times = []\n",
    "\n",
    "    for i in away_drop_scorers_cleaner:\n",
    "        player_times = []\n",
    "        for j in i:\n",
    "            player_times.append(int(j))\n",
    "        away_drop_scorers_times.append(player_times)\n",
    "\n",
    "    # create away conv scorers dict\n",
    "    away_drop_scorers = {}\n",
    "    for i in range(len(away_drop_scorers_clean)-1):\n",
    "        away_drop_scorers[away_drop_scorers_clean[i][0]] = away_drop_scorers_times[i]\n",
    "else:\n",
    "    away_drop_scorers = {}\n",
    "away_drop_scorers"
   ]
  },
  {
   "cell_type": "markdown",
   "id": "3b10639e",
   "metadata": {},
   "source": [
    "### Match Events\n",
    "Derive these totals from the Generic Stats\n",
    "- No. Tries (len(tryscorers dict))\n",
    "- No. Conversions\n",
    "- No. Penalties\n",
    "\n",
    "Scrape this\n",
    "- Kick Percent Success"
   ]
  },
  {
   "cell_type": "code",
   "execution_count": 27,
   "id": "fac1edcf",
   "metadata": {},
   "outputs": [
    {
     "name": "stdout",
     "output_type": "stream",
     "text": [
      "1 4\n",
      "1 4\n",
      "1 2\n",
      "0 0\n"
     ]
    }
   ],
   "source": [
    "# match events\n",
    "home_try_count = len(sum(home_tryscorers_clean.values(), []))\n",
    "away_try_count = len(sum(away_tryscorers_clean.values(), []))\n",
    "\n",
    "home_conv_count = len(sum(home_conv_scorers.values(), []))\n",
    "away_conv_count = len(sum(away_conv_scorers.values(), []))\n",
    "\n",
    "home_pen_goals_count = len(sum(home_pen_scorers.values(), []))\n",
    "away_pen_goals_count = len(sum(away_pen_scorers.values(), []))\n",
    "\n",
    "home_drop_goals_count = len(sum(home_drop_scorers.values(), []))\n",
    "away_drop_goals_count = len(sum(away_drop_scorers.values(), []))\n",
    "\n",
    "print(home_try_count, away_try_count)\n",
    "print(home_conv_count, away_conv_count)\n",
    "print(home_pen_goals_count, away_pen_goals_count)\n",
    "print(home_drop_goals_count, away_drop_goals_count)"
   ]
  },
  {
   "cell_type": "code",
   "execution_count": 28,
   "id": "75dace22",
   "metadata": {},
   "outputs": [
    {
     "name": "stdout",
     "output_type": "stream",
     "text": [
      "1 Tries 4\n",
      "1 Conversion Goals 4\n",
      "1 Penalty Goals 2\n",
      "100% Kick Percent Success 100%\n",
      "25 Kicks From Hand 29\n",
      "177 Passes 154\n",
      "140 Runs 133\n",
      "40% / 54% Possession 1H/2H 60% / 46%\n",
      "46% / 51% Territory 1H/2H 54% / 49%\n",
      "6 Clean Breaks 6\n",
      "17 Defenders Beaten 33\n",
      "10 Offload 5\n",
      "98 / 102 (96%) Rucks Won 103 / 107 (96%)\n",
      "3 / 5 (60%) Mauls Won 11 / 11 (100%)\n",
      "14 Turnovers Conceded 8\n",
      "0 Red Cards 0\n",
      "1 Yellow Cards 0\n",
      "1 Total Free Kicks Conceded 2\n"
     ]
    }
   ],
   "source": [
    "# non-graphic stats\n",
    "non_graphic_stats_elements = driver.find_elements(By.CLASS_NAME, \"compareTable\")\n",
    "for i in non_graphic_stats_elements:\n",
    "    print(i.text)"
   ]
  },
  {
   "cell_type": "code",
   "execution_count": 29,
   "id": "c3636e0f",
   "metadata": {},
   "outputs": [
    {
     "name": "stdout",
     "output_type": "stream",
     "text": [
      "100 100\n"
     ]
    }
   ],
   "source": [
    "# kick percent\n",
    "kick_perc_line = non_graphic_stats_elements[0].text.split(\"\\n\")[3].split()\n",
    "home_kick_perc = int(kick_perc_line[0].split(\"%\")[0])\n",
    "away_kick_perc = int(kick_perc_line[-1].split(\"%\")[0])\n",
    "print(home_kick_perc, away_kick_perc)"
   ]
  },
  {
   "cell_type": "markdown",
   "id": "140115fb",
   "metadata": {},
   "source": [
    "### Kick/Pass/Run\n",
    "- Metres Run\n",
    "- Kicks from hand\n",
    "- Passes\n",
    "- Runs"
   ]
  },
  {
   "cell_type": "code",
   "execution_count": 31,
   "id": "a227a528",
   "metadata": {},
   "outputs": [],
   "source": [
    "# line graph elements\n",
    "line_graphs = driver.find_elements(By.CLASS_NAME, \"compareLineGraph\")\n",
    "metres_run_graph = line_graphs[0]\n",
    "total_possession_graph = line_graphs[1]\n",
    "total_territory_graph = line_graphs[2]"
   ]
  },
  {
   "cell_type": "code",
   "execution_count": 32,
   "id": "208abc43",
   "metadata": {},
   "outputs": [
    {
     "data": {
      "text/plain": [
       "(421, 436)"
      ]
     },
     "execution_count": 32,
     "metadata": {},
     "output_type": "execute_result"
    }
   ],
   "source": [
    "# metres run\n",
    "home_metres_run = int(metres_run_graph.text.split(\"\\n\")[0])\n",
    "away_metres_run = int(metres_run_graph.text.split(\"\\n\")[1])\n",
    "home_metres_run, away_metres_run"
   ]
  },
  {
   "cell_type": "code",
   "execution_count": 33,
   "id": "df331ede",
   "metadata": {},
   "outputs": [
    {
     "data": {
      "text/plain": [
       "(25, 29)"
      ]
     },
     "execution_count": 33,
     "metadata": {},
     "output_type": "execute_result"
    }
   ],
   "source": [
    "# kicks from hand\n",
    "kicks_hand_line = non_graphic_stats_elements[1].text.split(\"\\n\")[0]\n",
    "home_kicks_hand = int(kicks_hand_line.split()[0])\n",
    "away_kicks_hand = int(kicks_hand_line.split()[-1])\n",
    "home_kicks_hand, away_kicks_hand"
   ]
  },
  {
   "cell_type": "code",
   "execution_count": 34,
   "id": "62b36e22",
   "metadata": {},
   "outputs": [
    {
     "data": {
      "text/plain": [
       "(177, 154)"
      ]
     },
     "execution_count": 34,
     "metadata": {},
     "output_type": "execute_result"
    }
   ],
   "source": [
    "# passes\n",
    "passes_line = non_graphic_stats_elements[1].text.split(\"\\n\")[1]\n",
    "home_passes = int(passes_line.split()[0])\n",
    "away_passes = int(passes_line.split()[-1])\n",
    "home_passes, away_passes"
   ]
  },
  {
   "cell_type": "code",
   "execution_count": 35,
   "id": "16473c28",
   "metadata": {},
   "outputs": [
    {
     "data": {
      "text/plain": [
       "(140, 133)"
      ]
     },
     "execution_count": 35,
     "metadata": {},
     "output_type": "execute_result"
    }
   ],
   "source": [
    "# runs\n",
    "runs_line = non_graphic_stats_elements[1].text.split(\"\\n\")[2]\n",
    "home_runs = int(runs_line.split()[0])\n",
    "away_runs = int(runs_line.split()[-1])\n",
    "home_runs, away_runs"
   ]
  },
  {
   "cell_type": "markdown",
   "id": "1eff83f6",
   "metadata": {},
   "source": [
    "### Attacking\n",
    "- Possession 1H/2H\n",
    "- Territory 1H/2H\n",
    "- Clean Breaks\n",
    "- Defenders Beaten\n",
    "- Offload\n",
    "- Rucks Won (raw & percent)\n",
    "- Mauls Won (raw & percent)\n",
    "- Turnovers Conceded"
   ]
  },
  {
   "cell_type": "code",
   "execution_count": 37,
   "id": "972fc031",
   "metadata": {},
   "outputs": [
    {
     "data": {
      "text/plain": [
       "(40, 60, 54, 46)"
      ]
     },
     "execution_count": 37,
     "metadata": {},
     "output_type": "execute_result"
    }
   ],
   "source": [
    "# 1st and 2nd half possession\n",
    "possession_line = non_graphic_stats_elements[2].text.split(\"\\n\")[0].split()\n",
    "home_half1_posession = int(possession_line[0].split(\"%\")[0])\n",
    "away_half1_posession = int(possession_line[5].split(\"%\")[0])\n",
    "\n",
    "home_half2_posession = int(possession_line[2].split(\"%\")[0])\n",
    "away_half2_posession = int(possession_line[-1].split(\"%\")[0])\n",
    "\n",
    "home_half1_posession, away_half1_posession, home_half2_posession, away_half2_posession"
   ]
  },
  {
   "cell_type": "code",
   "execution_count": 38,
   "id": "4a8ebcba",
   "metadata": {},
   "outputs": [
    {
     "data": {
      "text/plain": [
       "(46, 54, 51, 49)"
      ]
     },
     "execution_count": 38,
     "metadata": {},
     "output_type": "execute_result"
    }
   ],
   "source": [
    "# 1st and 2nd half territory\n",
    "territory_line = non_graphic_stats_elements[2].text.split(\"\\n\")[1].split()\n",
    "\n",
    "home_half1_territory = int(territory_line[0].split(\"%\")[0])\n",
    "away_half1_territory = int(territory_line[5].split(\"%\")[0])\n",
    "\n",
    "home_half2_territory = int(territory_line[2].split(\"%\")[0])\n",
    "away_half2_territory = int(territory_line[-1].split(\"%\")[0])\n",
    "\n",
    "home_half1_territory, away_half1_territory, home_half2_territory, away_half2_territory"
   ]
  },
  {
   "cell_type": "code",
   "execution_count": 39,
   "id": "57e50dd1",
   "metadata": {},
   "outputs": [
    {
     "data": {
      "text/plain": [
       "(6, 6)"
      ]
     },
     "execution_count": 39,
     "metadata": {},
     "output_type": "execute_result"
    }
   ],
   "source": [
    "# clean breaks\n",
    "clean_break_line = non_graphic_stats_elements[2].text.split(\"\\n\")[2].split()\n",
    "home_clean_breaks = int(clean_break_line[0])\n",
    "away_clean_breaks = int(clean_break_line[-1])\n",
    "\n",
    "home_clean_breaks, away_clean_breaks"
   ]
  },
  {
   "cell_type": "code",
   "execution_count": 40,
   "id": "afbdd690",
   "metadata": {},
   "outputs": [
    {
     "data": {
      "text/plain": [
       "(17, 33)"
      ]
     },
     "execution_count": 40,
     "metadata": {},
     "output_type": "execute_result"
    }
   ],
   "source": [
    "# defenders beaten\n",
    "def_beaten_line = non_graphic_stats_elements[2].text.split(\"\\n\")[3].split()\n",
    "home_def_beaten = int(def_beaten_line[0])\n",
    "away_def_beaten = int(def_beaten_line[-1])\n",
    "\n",
    "home_def_beaten, away_def_beaten"
   ]
  },
  {
   "cell_type": "code",
   "execution_count": 41,
   "id": "19f1b778",
   "metadata": {},
   "outputs": [
    {
     "data": {
      "text/plain": [
       "(10, 5)"
      ]
     },
     "execution_count": 41,
     "metadata": {},
     "output_type": "execute_result"
    }
   ],
   "source": [
    "# offloads\n",
    "offloads_line = non_graphic_stats_elements[2].text.split(\"\\n\")[4].split()\n",
    "home_offloads = int(offloads_line[0])\n",
    "away_offloads = int(offloads_line[-1])\n",
    "\n",
    "home_offloads, away_offloads"
   ]
  },
  {
   "cell_type": "code",
   "execution_count": 42,
   "id": "7e8cd60a",
   "metadata": {},
   "outputs": [
    {
     "data": {
      "text/plain": [
       "(98, 4, 96, 103, 4, 96)"
      ]
     },
     "execution_count": 42,
     "metadata": {},
     "output_type": "execute_result"
    }
   ],
   "source": [
    "# rucks won (raw & percent)\n",
    "rucks_won_line = non_graphic_stats_elements[2].text.split(\"\\n\")[5].split()\n",
    "\n",
    "home_rucks_won = int(rucks_won_line[0])\n",
    "home_rucks_lost = int(rucks_won_line[2]) - home_rucks_won\n",
    "home_rucks_perc = int(rucks_won_line[3].split(\"%\")[0].split(\"(\")[1])\n",
    "\n",
    "away_rucks_won = int(rucks_won_line[6])\n",
    "away_rucks_lost = int(rucks_won_line[8]) - away_rucks_won\n",
    "away_rucks_perc = int(rucks_won_line[-1].split(\"%\")[0].split(\"(\")[1])\n",
    "\n",
    "home_rucks_won, home_rucks_lost, home_rucks_perc, away_rucks_won, away_rucks_lost, away_rucks_perc"
   ]
  },
  {
   "cell_type": "code",
   "execution_count": 43,
   "id": "f6a73546",
   "metadata": {},
   "outputs": [
    {
     "data": {
      "text/plain": [
       "(3, 2, 60, 11, 0, 100)"
      ]
     },
     "execution_count": 43,
     "metadata": {},
     "output_type": "execute_result"
    }
   ],
   "source": [
    "# mauls won (raw & percent)\n",
    "mauls_won_line = non_graphic_stats_elements[2].text.split(\"\\n\")[6].split()\n",
    "\n",
    "home_mauls_won = int(mauls_won_line[0])\n",
    "home_mauls_lost = int(mauls_won_line[2]) - home_mauls_won\n",
    "home_mauls_perc = int(mauls_won_line[3].split(\"%\")[0].split(\"(\")[1])\n",
    "\n",
    "away_mauls_won = int(mauls_won_line[6])\n",
    "away_mauls_lost = int(mauls_won_line[8]) - away_mauls_won\n",
    "away_mauls_perc = int(mauls_won_line[-1].split(\"%\")[0].split(\"(\")[1])\n",
    "\n",
    "home_mauls_won, home_mauls_lost, home_mauls_perc, away_mauls_won, away_mauls_lost, away_mauls_perc"
   ]
  },
  {
   "cell_type": "code",
   "execution_count": 44,
   "id": "df333263",
   "metadata": {},
   "outputs": [
    {
     "data": {
      "text/plain": [
       "(14, 8)"
      ]
     },
     "execution_count": 44,
     "metadata": {},
     "output_type": "execute_result"
    }
   ],
   "source": [
    "# turnovers conceded\n",
    "turnovers_line = non_graphic_stats_elements[2].text.split(\"\\n\")[7].split()\n",
    "home_turnovers_conc = int(turnovers_line[0])\n",
    "away_turnovers_conc = int(turnovers_line[-1])\n",
    "\n",
    "home_turnovers_conc, away_turnovers_conc"
   ]
  },
  {
   "cell_type": "markdown",
   "id": "ef7a4eda",
   "metadata": {},
   "source": [
    "### Total Possession and Territory"
   ]
  },
  {
   "cell_type": "code",
   "execution_count": 46,
   "id": "7d94047d",
   "metadata": {},
   "outputs": [
    {
     "data": {
      "text/plain": [
       "(48, 52)"
      ]
     },
     "execution_count": 46,
     "metadata": {},
     "output_type": "execute_result"
    }
   ],
   "source": [
    "# total possession\n",
    "home_total_possession = int(total_possession_graph.text.split(\"%\")[0])\n",
    "away_total_possession = int(total_possession_graph.text.split(\"%\")[-2])\n",
    "\n",
    "home_total_possession, away_total_possession"
   ]
  },
  {
   "cell_type": "code",
   "execution_count": 47,
   "id": "0d07eb74",
   "metadata": {},
   "outputs": [
    {
     "data": {
      "text/plain": [
       "(49, 51)"
      ]
     },
     "execution_count": 47,
     "metadata": {},
     "output_type": "execute_result"
    }
   ],
   "source": [
    "# total territory\n",
    "home_total_territory = int(total_territory_graph.text.split(\"%\")[0])\n",
    "away_total_territory = int(total_territory_graph.text.split(\"%\")[-2])\n",
    "\n",
    "home_total_territory, away_total_territory"
   ]
  },
  {
   "cell_type": "markdown",
   "id": "9119e844",
   "metadata": {},
   "source": [
    "### Set Pieces\n",
    "- Scrums won (raw & percent)\n",
    "- Lineouts won (raw & percent)"
   ]
  },
  {
   "cell_type": "code",
   "execution_count": 49,
   "id": "b16598c3",
   "metadata": {},
   "outputs": [],
   "source": [
    "# count charts\n",
    "count_charts = driver.find_elements(By.CLASS_NAME, \"countChart\")\n",
    "scrums_won_chart = count_charts[0].text\n",
    "lineouts_won_chart = count_charts[1].text\n",
    "penalties_conceded_chart = count_charts[2].text"
   ]
  },
  {
   "cell_type": "code",
   "execution_count": 50,
   "id": "bf10b657",
   "metadata": {},
   "outputs": [
    {
     "data": {
      "text/plain": [
       "(3, 1, 75, 6, 3, 66)"
      ]
     },
     "execution_count": 50,
     "metadata": {},
     "output_type": "execute_result"
    }
   ],
   "source": [
    "# scrums won (raw & percent)\n",
    "home_scrums_won = int(scrums_won_chart.split(\"\\n\")[0].split(\"/\")[0])\n",
    "home_scrums_lost = int(scrums_won_chart.split(\"\\n\")[0].split(\"/\")[1].split()[0]) - home_scrums_won\n",
    "home_scrums_perc = int(scrums_won_chart.split(\"%\")[0].split(\"(\")[1])\n",
    "\n",
    "away_scrums_won = int(scrums_won_chart.split(\"\\n\")[1].split(\"/\")[0])\n",
    "away_scrums_lost = int(scrums_won_chart.split(\"\\n\")[1].split(\"/\")[1].split()[0]) - away_scrums_won\n",
    "away_scrums_perc = int(scrums_won_chart.split(\"%\")[1].split(\"(\")[1])\n",
    "\n",
    "home_scrums_won, home_scrums_lost, home_scrums_perc, away_scrums_won, away_scrums_lost, away_scrums_perc"
   ]
  },
  {
   "cell_type": "code",
   "execution_count": 51,
   "id": "9af7f91c",
   "metadata": {},
   "outputs": [
    {
     "data": {
      "text/plain": [
       "(10, 3, 76, 15, 0, 100)"
      ]
     },
     "execution_count": 51,
     "metadata": {},
     "output_type": "execute_result"
    }
   ],
   "source": [
    "# lineouts won (raw & percent)\n",
    "home_lineouts_won = int(lineouts_won_chart.split(\"\\n\")[0].split(\"/\")[0])\n",
    "home_lineouts_lost = int(lineouts_won_chart.split(\"\\n\")[0].split(\"/\")[1].split()[0]) - home_lineouts_won\n",
    "home_lineouts_perc = int(lineouts_won_chart.split(\"%\")[0].split(\"(\")[1])\n",
    "\n",
    "away_lineouts_won = int(lineouts_won_chart.split(\"\\n\")[1].split(\"/\")[0])\n",
    "away_lineouts_lost = int(lineouts_won_chart.split(\"\\n\")[1].split(\"/\")[1].split()[0]) - away_lineouts_won\n",
    "away_lineouts_perc = int(lineouts_won_chart.split(\"%\")[1].split(\"(\")[1])\n",
    "\n",
    "home_lineouts_won, home_lineouts_lost, home_lineouts_perc, away_lineouts_won, away_lineouts_lost, away_lineouts_perc"
   ]
  },
  {
   "cell_type": "markdown",
   "id": "eb668c14",
   "metadata": {},
   "source": [
    "### Defending\n",
    "- Tackles (raw & percent)"
   ]
  },
  {
   "cell_type": "code",
   "execution_count": 53,
   "id": "163ba02a",
   "metadata": {},
   "outputs": [],
   "source": [
    "# find tackle chart elements\n",
    "tackle_charts = driver.find_elements(By.CLASS_NAME, \"inner-circle\")"
   ]
  },
  {
   "cell_type": "code",
   "execution_count": 54,
   "id": "a875944b",
   "metadata": {},
   "outputs": [
    {
     "data": {
      "text/plain": [
       "(184, 33, 85, 155, 17, 90)"
      ]
     },
     "execution_count": 54,
     "metadata": {},
     "output_type": "execute_result"
    }
   ],
   "source": [
    "# home and away tackles (raw & percent)\n",
    "home_tackles = int(tackle_charts[0].text.split(\"\\n\")[0].split(\"/\")[0])\n",
    "home_missed_tackles = int(tackle_charts[0].text.split(\"\\n\")[0].split(\"/\")[1]) - home_tackles\n",
    "home_tackle_perc = int(tackle_charts[0].text.split(\"\\n\")[1].split(\"%\")[0])\n",
    "\n",
    "away_tackles = int(tackle_charts[1].text.split(\"\\n\")[0].split(\"/\")[0])\n",
    "away_missed_tackles = int(tackle_charts[1].text.split(\"\\n\")[0].split(\"/\")[1]) - away_tackles\n",
    "away_tackle_perc = int(tackle_charts[1].text.split(\"\\n\")[1].split(\"%\")[0])\n",
    "\n",
    "home_tackles, home_missed_tackles, home_tackle_perc, away_tackles, away_missed_tackles, away_tackle_perc"
   ]
  },
  {
   "cell_type": "markdown",
   "id": "3db90967",
   "metadata": {},
   "source": [
    "### Discipline\n",
    "- Red Cards\n",
    "- Yellow cards\n",
    "- Free kicks conceded\n",
    "- Penalties conceded"
   ]
  },
  {
   "cell_type": "code",
   "execution_count": 56,
   "id": "bc037ea5",
   "metadata": {},
   "outputs": [
    {
     "data": {
      "text/plain": [
       "(0, 0)"
      ]
     },
     "execution_count": 56,
     "metadata": {},
     "output_type": "execute_result"
    }
   ],
   "source": [
    "# red cards\n",
    "red_cards_line = non_graphic_stats_elements[3].text.split(\"\\n\")[0].split()\n",
    "home_red_cards = int(red_cards_line[0])\n",
    "away_red_cards = int(red_cards_line[-1])\n",
    "home_red_cards, away_red_cards"
   ]
  },
  {
   "cell_type": "code",
   "execution_count": 57,
   "id": "19a5dcd0",
   "metadata": {},
   "outputs": [
    {
     "data": {
      "text/plain": [
       "(1, 0)"
      ]
     },
     "execution_count": 57,
     "metadata": {},
     "output_type": "execute_result"
    }
   ],
   "source": [
    "# yellow cards\n",
    "yellow_cards_line = non_graphic_stats_elements[3].text.split(\"\\n\")[1].split()\n",
    "home_yellow_cards = int(yellow_cards_line[0])\n",
    "away_yellow_cards = int(yellow_cards_line[-1])\n",
    "home_yellow_cards, away_yellow_cards"
   ]
  },
  {
   "cell_type": "code",
   "execution_count": 58,
   "id": "29109644",
   "metadata": {},
   "outputs": [
    {
     "data": {
      "text/plain": [
       "(1, 2)"
      ]
     },
     "execution_count": 58,
     "metadata": {},
     "output_type": "execute_result"
    }
   ],
   "source": [
    "# free kicks\n",
    "freekicks_line = non_graphic_stats_elements[3].text.split(\"\\n\")[2].split()\n",
    "home_freekicks_conceded = int(freekicks_line[0])\n",
    "away_freekicks_conceded = int(freekicks_line[-1])\n",
    "home_freekicks_conceded, away_freekicks_conceded"
   ]
  },
  {
   "cell_type": "code",
   "execution_count": 59,
   "id": "ae295b1c",
   "metadata": {},
   "outputs": [
    {
     "data": {
      "text/plain": [
       "(15, 13)"
      ]
     },
     "execution_count": 59,
     "metadata": {},
     "output_type": "execute_result"
    }
   ],
   "source": [
    "# penalties conceded\n",
    "home_pens_conceded = int(penalties_conceded_chart.replace(\"\\n\", \"\").split(\"<\")[0])\n",
    "away_pens_conceded = int(penalties_conceded_chart.replace(\"\\n\", \"\").split(\"<\")[home_pens_conceded])\n",
    "home_pens_conceded, away_pens_conceded"
   ]
  },
  {
   "cell_type": "markdown",
   "id": "ee3a451b",
   "metadata": {},
   "source": [
    "## Turn Stats into DataFrame"
   ]
  },
  {
   "cell_type": "code",
   "execution_count": 61,
   "id": "5ebf7e09",
   "metadata": {},
   "outputs": [],
   "source": [
    "# create dataframes for one match - one df per stats category with MatchID as primary/foreign key\n",
    "matchID = 0\n",
    "match_events_row = {\"MatchID\": matchID,\n",
    "                    \"Date\": match_datetime,\n",
    "                    \"home_team\": team_names_list[0],\n",
    "                    \"away_team\": team_names_list[1],\n",
    "                    \"home score\": scores_list[0],\n",
    "                    \"away score\": scores_list[1],\n",
    "                    \"home_tries\": home_try_count,\n",
    "                    \"away_tries\": away_try_count,\n",
    "                    \"home_conv\": home_conv_count,\n",
    "                    \"away_conv\": away_conv_count,\n",
    "                    \"home_pen_goals\": home_pen_goals_count,\n",
    "                    \"away_pen_goals\": away_pen_goals_count,\n",
    "                    \"home_drops\": home_drop_goals_count,\n",
    "                    \"away_drops\": away_drop_goals_count,\n",
    "                    \"home_kick_success\": home_kick_perc,\n",
    "                    \"away_kick_success\": away_kick_perc,\n",
    "                    \"home_tryscorers\": [home_tryscorers_clean],\n",
    "                    \"away_tryscorers\": [away_tryscorers_clean],\n",
    "                    \"home_conv_scorers\": [home_conv_scorers],\n",
    "                    \"away_conv_scorers\": [away_conv_scorers],\n",
    "                    \"home_pen_scorers\": [home_pen_scorers],\n",
    "                    \"away_pen_scorers\": [away_pen_scorers],\n",
    "                    \"home_drop_scorers\": [home_drop_scorers],\n",
    "                    \"away_drop_scorers\": [away_drop_scorers]}\n",
    "\n",
    "kick_pass_run_row = {\"MatchID\": matchID,\n",
    "                    \"home_m_run\": home_metres_run,\n",
    "                    \"away_m_run\": away_metres_run,\n",
    "                    \"home_kicks_hand\": home_kicks_hand,\n",
    "                    \"away_kicks_hand\": away_kicks_hand,\n",
    "                    \"home_passes\": home_passes,\n",
    "                    \"away_passes\": away_passes,\n",
    "                    \"home_runs\": home_runs,\n",
    "                    \"away_runs\": away_runs}\n",
    "\n",
    "attacking_row = {\"MatchID\": matchID,\n",
    "                \"home_total_poss\": home_total_possession,\n",
    "                \"away_total_poss\": away_total_possession,\n",
    "                \"home_h1_poss\": home_half1_posession,\n",
    "                \"away_h1_poss\": away_half1_posession,\n",
    "                \"home_h2_poss\": home_half2_posession,\n",
    "                \"away_h2_poss\": away_half2_posession,\n",
    "                \"home_total_terr\": home_total_territory,\n",
    "                \"away_total_terr\": away_total_territory,\n",
    "                \"home_h1_terr\": home_half1_territory,\n",
    "                \"away_h1_terr\": away_half1_territory,\n",
    "                \"home_h2_terr\": home_half2_territory,\n",
    "                \"away_h2_terr\": away_half2_territory,\n",
    "                \"home_clean_br\": home_clean_breaks,\n",
    "                \"away_clean_br\": away_clean_breaks,\n",
    "                \"home_def_beat\": home_def_beaten,\n",
    "                \"away_def_beat\": away_def_beaten,\n",
    "                \"home_offl\": home_offloads,\n",
    "                \"away_offl\": away_offloads}\n",
    "\n",
    "breakdown_row = {\"MatchID\": matchID,\n",
    "                \"home_rucks_won\": home_rucks_won,\n",
    "                \"away_rucks_won\": away_rucks_won,\n",
    "                \"home_rucks_lost\": home_rucks_lost,\n",
    "                \"away_rucks_lost\": away_rucks_lost,\n",
    "                \"home_rucks_perc\": home_rucks_perc,\n",
    "                \"away_rucks_perc\": away_rucks_perc,\n",
    "                \"home_mauls_won\": home_mauls_won,\n",
    "                \"away_mauls_won\": away_mauls_won,\n",
    "                \"home_mauls_lost\": home_mauls_lost,\n",
    "                \"away_mauls_lost\": away_mauls_lost,\n",
    "                \"home_mauls_perc\": home_mauls_perc,\n",
    "                \"away_mauls_perc\": away_mauls_perc,\n",
    "                \"home_turn_conc\": home_turnovers_conc,\n",
    "                \"away_turn_conc\": away_turnovers_conc}\n",
    "                "
   ]
  },
  {
   "cell_type": "code",
   "execution_count": 62,
   "id": "4f06ed94",
   "metadata": {},
   "outputs": [],
   "source": [
    "defending_row = {\"MatchID\": matchID,\n",
    "                \"home_tackles\": home_tackles,\n",
    "                \"away_tackles\": away_tackles,\n",
    "                \"home_miss_tack\": home_missed_tackles,\n",
    "                \"away_miss_tack\": away_missed_tackles,\n",
    "                \"home_tack_perc\": home_tackle_perc,\n",
    "                \"away_tack_perc\": away_tackle_perc}\n",
    "\n",
    "set_pieces_row = {\"MatchID\": matchID,\n",
    "                \"home_scrum_won\": home_scrums_won,\n",
    "                \"away_scrum_won\": away_scrums_won,\n",
    "                \"home_scrum_lost\": home_scrums_lost,\n",
    "                \"away_scrum_lost\": away_scrums_lost,\n",
    "                \"home_scrum_perc\": home_scrums_perc,\n",
    "                \"away_scrum_perc\": away_scrums_perc,\n",
    "                \"home_line_won\": home_lineouts_won,\n",
    "                \"away_line_won\": away_lineouts_won,\n",
    "                \"home_line_lost\": home_lineouts_lost,\n",
    "                \"away_line_lost\": away_lineouts_lost,\n",
    "                \"home_line_perc\": home_lineouts_perc,\n",
    "                \"away_line_perc\": away_lineouts_perc}\n",
    "\n",
    "discipline_row = {\"MatchID\": matchID,\n",
    "                \"home_pens_conc\": home_pens_conceded,\n",
    "                \"away_pens_conc\": away_pens_conceded,\n",
    "                \"home_free_conc\": home_freekicks_conceded,\n",
    "                \"away_free_conc\": away_freekicks_conceded,\n",
    "                \"home_yellow\": home_yellow_cards,\n",
    "                \"away_yellow\": away_yellow_cards,\n",
    "                \"home_red\": home_red_cards,\n",
    "                \"away_red\": away_red_cards}"
   ]
  },
  {
   "cell_type": "code",
   "execution_count": 63,
   "id": "f70ce87e",
   "metadata": {},
   "outputs": [],
   "source": [
    "# create dfs for each new row\n",
    "match_events_df = pd.DataFrame(match_events_row, index=[0])\n",
    "kick_pass_run_df = pd.DataFrame(kick_pass_run_row, index=[0])\n",
    "attacking_df = pd.DataFrame(attacking_row, index=[0])\n",
    "breakdown_df = pd.DataFrame(breakdown_row, index=[0])\n",
    "defending_df = pd.DataFrame(defending_row, index=[0])\n",
    "set_pieces_df = pd.DataFrame(set_pieces_row, index=[0])\n",
    "discipline_df = pd.DataFrame(discipline_row, index=[0])"
   ]
  },
  {
   "cell_type": "code",
   "execution_count": 141,
   "id": "298a15ad",
   "metadata": {},
   "outputs": [
    {
     "data": {
      "text/plain": [
       "<bound method Timestamp.date of Timestamp('2023-02-04 14:15:00')>"
      ]
     },
     "execution_count": 141,
     "metadata": {},
     "output_type": "execute_result"
    }
   ],
   "source": [
    "match_events_df[\"Date\"][0].date"
   ]
  },
  {
   "cell_type": "code",
   "execution_count": 65,
   "id": "380175dd-d605-4d9b-b18d-a82fc266d37f",
   "metadata": {},
   "outputs": [
    {
     "data": {
      "text/plain": [
       "dict_keys(['Caelan Doris', 'James Ryan', 'James Lowe', 'Josh van der Flier'])"
      ]
     },
     "execution_count": 65,
     "metadata": {},
     "output_type": "execute_result"
    }
   ],
   "source": [
    "match_events_df[\"away_tryscorers\"][0].keys()"
   ]
  },
  {
   "cell_type": "markdown",
   "id": "911a5b54",
   "metadata": {},
   "source": [
    "### Head to Head Record\n",
    "- last five games\n",
    "### Form\n",
    "- Team 1 form\n",
    "- team 2 form"
   ]
  },
  {
   "cell_type": "code",
   "execution_count": null,
   "id": "fa280c70",
   "metadata": {},
   "outputs": [],
   "source": []
  }
 ],
 "metadata": {
  "kernelspec": {
   "display_name": "Python 3 (ipykernel)",
   "language": "python",
   "name": "python3"
  },
  "language_info": {
   "codemirror_mode": {
    "name": "ipython",
    "version": 3
   },
   "file_extension": ".py",
   "mimetype": "text/x-python",
   "name": "python",
   "nbconvert_exporter": "python",
   "pygments_lexer": "ipython3",
   "version": "3.11.7"
  }
 },
 "nbformat": 4,
 "nbformat_minor": 5
}
