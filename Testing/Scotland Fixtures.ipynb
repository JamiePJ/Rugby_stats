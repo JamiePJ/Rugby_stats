{
 "cells": [
  {
   "cell_type": "code",
   "execution_count": 1,
   "id": "ecdd8fb4-325c-4c3b-851a-c48b0d5fc8b6",
   "metadata": {},
   "outputs": [],
   "source": [
    "import pandas as pd\n",
    "import numpy as np\n",
    "\n",
    "# import selenium library and necessary features for web scraping\n",
    "import selenium\n",
    "from selenium import webdriver\n",
    "from selenium.webdriver.common.by import By\n",
    "from selenium.common.exceptions import NoSuchElementException\n",
    "import time"
   ]
  },
  {
   "cell_type": "code",
   "execution_count": 2,
   "id": "3eb1beb4-ec9e-421a-9ca4-ab195ac4f83d",
   "metadata": {},
   "outputs": [],
   "source": [
    "# settings for selenium\n",
    "cService = webdriver.ChromeService(executable_path=r\"C:\\Users\\jamie\\Python Projects\\Rugby\\chromedriver-win64\\chromedriver-win64\\chromedriver.exe\")\n",
    "driver = webdriver.Chrome(service=cService)\n",
    "\n",
    "# open the ESPN page for Scotland (2024 season)\n",
    "driver.get(\"https://www.espn.co.uk/rugby/results/_/team/2/season/2024\")\n",
    "\n",
    "# close privacy settings window\n",
    "time.sleep(5)\n",
    "cookies_button = driver.find_element(By.ID, \"onetrust-close-btn-container\")\n",
    "cookies_button.click()\n",
    "time.sleep(3)"
   ]
  },
  {
   "cell_type": "code",
   "execution_count": 3,
   "id": "36845758-4251-4d7e-b3aa-5f37a1761fc7",
   "metadata": {},
   "outputs": [
    {
     "data": {
      "text/plain": [
       "[<selenium.webdriver.remote.webelement.WebElement (session=\"9fcc9fa3f40346b0cd9ddde2b2c7318a\", element=\"f.A4C126ABB74E7DB85071901D5F1082AA.d.A58273CF135F23A5B0EC541BCDCC6D18.e.148\")>,\n",
       " <selenium.webdriver.remote.webelement.WebElement (session=\"9fcc9fa3f40346b0cd9ddde2b2c7318a\", element=\"f.A4C126ABB74E7DB85071901D5F1082AA.d.A58273CF135F23A5B0EC541BCDCC6D18.e.149\")>,\n",
       " <selenium.webdriver.remote.webelement.WebElement (session=\"9fcc9fa3f40346b0cd9ddde2b2c7318a\", element=\"f.A4C126ABB74E7DB85071901D5F1082AA.d.A58273CF135F23A5B0EC541BCDCC6D18.e.150\")>,\n",
       " <selenium.webdriver.remote.webelement.WebElement (session=\"9fcc9fa3f40346b0cd9ddde2b2c7318a\", element=\"f.A4C126ABB74E7DB85071901D5F1082AA.d.A58273CF135F23A5B0EC541BCDCC6D18.e.151\")>,\n",
       " <selenium.webdriver.remote.webelement.WebElement (session=\"9fcc9fa3f40346b0cd9ddde2b2c7318a\", element=\"f.A4C126ABB74E7DB85071901D5F1082AA.d.A58273CF135F23A5B0EC541BCDCC6D18.e.152\")>,\n",
       " <selenium.webdriver.remote.webelement.WebElement (session=\"9fcc9fa3f40346b0cd9ddde2b2c7318a\", element=\"f.A4C126ABB74E7DB85071901D5F1082AA.d.A58273CF135F23A5B0EC541BCDCC6D18.e.153\")>,\n",
       " <selenium.webdriver.remote.webelement.WebElement (session=\"9fcc9fa3f40346b0cd9ddde2b2c7318a\", element=\"f.A4C126ABB74E7DB85071901D5F1082AA.d.A58273CF135F23A5B0EC541BCDCC6D18.e.154\")>,\n",
       " <selenium.webdriver.remote.webelement.WebElement (session=\"9fcc9fa3f40346b0cd9ddde2b2c7318a\", element=\"f.A4C126ABB74E7DB85071901D5F1082AA.d.A58273CF135F23A5B0EC541BCDCC6D18.e.155\")>,\n",
       " <selenium.webdriver.remote.webelement.WebElement (session=\"9fcc9fa3f40346b0cd9ddde2b2c7318a\", element=\"f.A4C126ABB74E7DB85071901D5F1082AA.d.A58273CF135F23A5B0EC541BCDCC6D18.e.59\")>,\n",
       " <selenium.webdriver.remote.webelement.WebElement (session=\"9fcc9fa3f40346b0cd9ddde2b2c7318a\", element=\"f.A4C126ABB74E7DB85071901D5F1082AA.d.A58273CF135F23A5B0EC541BCDCC6D18.e.64\")>,\n",
       " <selenium.webdriver.remote.webelement.WebElement (session=\"9fcc9fa3f40346b0cd9ddde2b2c7318a\", element=\"f.A4C126ABB74E7DB85071901D5F1082AA.d.A58273CF135F23A5B0EC541BCDCC6D18.e.156\")>,\n",
       " <selenium.webdriver.remote.webelement.WebElement (session=\"9fcc9fa3f40346b0cd9ddde2b2c7318a\", element=\"f.A4C126ABB74E7DB85071901D5F1082AA.d.A58273CF135F23A5B0EC541BCDCC6D18.e.157\")>,\n",
       " <selenium.webdriver.remote.webelement.WebElement (session=\"9fcc9fa3f40346b0cd9ddde2b2c7318a\", element=\"f.A4C126ABB74E7DB85071901D5F1082AA.d.A58273CF135F23A5B0EC541BCDCC6D18.e.158\")>]"
      ]
     },
     "execution_count": 3,
     "metadata": {},
     "output_type": "execute_result"
    }
   ],
   "source": [
    "# find all fixtures in selected season\n",
    "fixtures_elements = driver.find_elements(By.CLASS_NAME, \"record\")\n",
    "fixtures_elements"
   ]
  },
  {
   "cell_type": "code",
   "execution_count": 5,
   "id": "b6bca4b8-7366-48f0-97a1-8bee8f316da9",
   "metadata": {},
   "outputs": [
    {
     "name": "stdout",
     "output_type": "stream",
     "text": [
      "27 - 13\n",
      "59 - 21\n",
      "15 - 32\n",
      "57 - 17\n",
      "19 - 31\n",
      "11 - 52\n",
      "7 - 42\n",
      "12 - 73\n",
      "17 - 13\n",
      "31 - 29\n",
      "30 - 21\n",
      "16 - 20\n",
      "26 - 27\n"
     ]
    }
   ],
   "source": [
    "for fixture in fixtures_elements:\n",
    "    print(fixture.text)"
   ]
  },
  {
   "cell_type": "code",
   "execution_count": null,
   "id": "ea45d917-fb5d-440c-bfcc-755b711f781e",
   "metadata": {},
   "outputs": [],
   "source": []
  }
 ],
 "metadata": {
  "kernelspec": {
   "display_name": "Python 3 (ipykernel)",
   "language": "python",
   "name": "python3"
  },
  "language_info": {
   "codemirror_mode": {
    "name": "ipython",
    "version": 3
   },
   "file_extension": ".py",
   "mimetype": "text/x-python",
   "name": "python",
   "nbconvert_exporter": "python",
   "pygments_lexer": "ipython3",
   "version": "3.11.7"
  }
 },
 "nbformat": 4,
 "nbformat_minor": 5
}
